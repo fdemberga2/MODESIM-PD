{
 "cells": [
  {
   "cell_type": "code",
   "execution_count": 1,
   "metadata": {},
   "outputs": [
    {
     "ename": "ModuleNotFoundError",
     "evalue": "No module named 'matplotlib'",
     "output_type": "error",
     "traceback": [
      "\u001b[1;31m---------------------------------------------------------------------------\u001b[0m",
      "\u001b[1;31mModuleNotFoundError\u001b[0m                       Traceback (most recent call last)",
      "Cell \u001b[1;32mIn[1], line 1\u001b[0m\n\u001b[1;32m----> 1\u001b[0m \u001b[39mfrom\u001b[39;00m \u001b[39mmodsim\u001b[39;00m \u001b[39mimport\u001b[39;00m \u001b[39m*\u001b[39m\n",
      "File \u001b[1;32mc:\\Users\\Infinix\\Documents\\Programming files\\MODESIM\\MODESIM CODES\\modsim.py:22\u001b[0m\n\u001b[0;32m     19\u001b[0m     logger\u001b[39m.\u001b[39mwarning(\u001b[39m\"\u001b[39m\u001b[39mmodsim.py depends on Python 3.6 features.\u001b[39m\u001b[39m\"\u001b[39m)\n\u001b[0;32m     21\u001b[0m \u001b[39mimport\u001b[39;00m \u001b[39minspect\u001b[39;00m\n\u001b[1;32m---> 22\u001b[0m \u001b[39mimport\u001b[39;00m \u001b[39mmatplotlib\u001b[39;00m\u001b[39m.\u001b[39;00m\u001b[39mpyplot\u001b[39;00m \u001b[39mas\u001b[39;00m \u001b[39mplt\u001b[39;00m\n\u001b[0;32m     23\u001b[0m \u001b[39mimport\u001b[39;00m \u001b[39mnumpy\u001b[39;00m \u001b[39mas\u001b[39;00m \u001b[39mnp\u001b[39;00m\n\u001b[0;32m     24\u001b[0m \u001b[39mimport\u001b[39;00m \u001b[39mpandas\u001b[39;00m \u001b[39mas\u001b[39;00m \u001b[39mpd\u001b[39;00m\n",
      "\u001b[1;31mModuleNotFoundError\u001b[0m: No module named 'matplotlib'"
     ]
    }
   ],
   "source": [
    "from modsim import *"
   ]
  },
  {
   "cell_type": "code",
   "execution_count": null,
   "metadata": {},
   "outputs": [],
   "source": [
    "bikeshare = State(Makati = 9, Manila = 3)\n",
    "def bike_to_makati():\n",
    "    print('Moving to Makati')\n",
    "    bikeshare.Makati +=1\n",
    "    bikeshare.Manila -=1\n",
    "def bike_to_manila():\n",
    "    print('Moving to Manila')\n",
    "    bikeshare.Makati -=1\n",
    "    bikeshare.Manila +=1\n",
    "\n",
    "if flip(0.7):\n",
    "    print('Heads')\n",
    "else:\n",
    "    print('Tails')\n",
    "\n",
    "bikeshare = State(Makati=9,Manila=3)\n",
    "def step(p1,p2):\n",
    "    if flip(p1):\n",
    "        bike_to_makati()\n",
    "    elif flip(p2):\n",
    "        bike_to_manila\n",
    "    else:\n",
    "        print('No Movement')\n",
    "\n",
    "results = TimeSeries()\n",
    "results[0] = bikeshare.Makati\n"
   ]
  }
 ],
 "metadata": {
  "kernelspec": {
   "display_name": "Python 3.10.4 64-bit",
   "language": "python",
   "name": "python3"
  },
  "language_info": {
   "codemirror_mode": {
    "name": "ipython",
    "version": 3
   },
   "file_extension": ".py",
   "mimetype": "text/x-python",
   "name": "python",
   "nbconvert_exporter": "python",
   "pygments_lexer": "ipython3",
   "version": "3.10.4"
  },
  "orig_nbformat": 4,
  "vscode": {
   "interpreter": {
    "hash": "65e37cac623dd8514ae764c0e7d12f94077269a99ef12fc7a0786e295a1d235d"
   }
  }
 },
 "nbformat": 4,
 "nbformat_minor": 2
}
