{
 "cells": [
  {
   "cell_type": "code",
   "execution_count": null,
   "metadata": {},
   "outputs": [],
   "source": [
    "import numpy as np\n",
    "from sklearn.linear_model import LinearRegression"
   ]
  },
  {
   "cell_type": "code",
   "execution_count": 1,
   "metadata": {},
   "outputs": [
    {
     "ename": "SyntaxError",
     "evalue": "invalid syntax (811268938.py, line 1)",
     "output_type": "error",
     "traceback": [
      "\u001b[1;36m  Cell \u001b[1;32mIn[1], line 1\u001b[1;36m\u001b[0m\n\u001b[1;33m    x = np.array([,])\u001b[0m\n\u001b[1;37m                  ^\u001b[0m\n\u001b[1;31mSyntaxError\u001b[0m\u001b[1;31m:\u001b[0m invalid syntax\n"
     ]
    }
   ],
   "source": [
    "x = np.array([0,1000, 1500, 2000, 2500, 3000, 3500, 4000,\n",
    "4500, 5000, 6000, 7000, 8000, 9000, 100000, 11000, 12000,\n",
    "13000, 14000, 15000]).reshape(-1,1)\n",
    "y = np.array([1.225, 1.167, 1.112, 1.058, 1.006, 0.957,\n",
    "0.909, 0.863, 0.819, 0.777, 0.736, 0.66, 0.59, 0.526,\n",
    "0.467, 0.413, 0.365, 0.312, 0.226, 0.228, 0.195])"
   ]
  }
 ],
 "metadata": {
  "kernelspec": {
   "display_name": "Python 3.11.0 64-bit",
   "language": "python",
   "name": "python3"
  },
  "language_info": {
   "codemirror_mode": {
    "name": "ipython",
    "version": 3
   },
   "file_extension": ".py",
   "mimetype": "text/x-python",
   "name": "python",
   "nbconvert_exporter": "python",
   "pygments_lexer": "ipython3",
   "version": "3.11.0"
  },
  "orig_nbformat": 4,
  "vscode": {
   "interpreter": {
    "hash": "0f94cda45993b6e4e7127bdf6dd9471c6ec18e1f349c5575e278595298a70f4b"
   }
  }
 },
 "nbformat": 4,
 "nbformat_minor": 2
}
